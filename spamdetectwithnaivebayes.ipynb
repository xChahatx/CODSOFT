{
 "cells": [
  {
   "cell_type": "code",
   "execution_count": 1,
   "metadata": {},
   "outputs": [
    {
     "name": "stdout",
     "output_type": "stream",
     "text": [
      "First 5 rows of the dataset:\n",
      "  category                                            Message\n",
      "0      ham  Go until jurong point, crazy.. Available only ...\n",
      "1      ham                      Ok lar... Joking wif u oni...\n",
      "2     spam  Free entry in 2 a wkly comp to win FA Cup fina...\n",
      "3      ham  U dun say so early hor... U c already then say...\n",
      "4      ham  Nah I don't think he goes to usf, he lives aro...\n",
      " Accuracy on Test: 0.9713004484304932\n",
      "\n",
      " Confusion Matrix:\n",
      " [[123  32]\n",
      " [  0 960]]\n",
      "\n",
      " Classification Report:\n",
      "               precision    recall  f1-score   support\n",
      "\n",
      "           0       1.00      0.79      0.88       155\n",
      "           1       0.97      1.00      0.98       960\n",
      "\n",
      "    accuracy                           0.97      1115\n",
      "   macro avg       0.98      0.90      0.93      1115\n",
      "weighted avg       0.97      0.97      0.97      1115\n",
      "\n",
      "\n",
      "Prediction: Spam Mail\n"
     ]
    }
   ],
   "source": [
    "# Importing Libraries\n",
    "import pandas as pd\n",
    "from sklearn.model_selection import train_test_split\n",
    "from sklearn.feature_extraction.text import TfidfVectorizer\n",
    "from sklearn.naive_bayes import MultinomialNB\n",
    "from sklearn.metrics import accuracy_score, confusion_matrix, classification_report\n",
    "\n",
    "# Load Dataset\n",
    "df = pd.read_csv(r\"C:\\Users\\chaha\\Downloads\\archive (2)\\spam.csv\", encoding='latin-1')\n",
    "\n",
    "# Keep only required columns and rename\n",
    "df = df[['v1', 'v2']]\n",
    "df = df.rename(columns={'v1': 'category', 'v2': 'Message'})\n",
    "\n",
    "# Preview Data\n",
    "print(\"First 5 rows of the dataset:\")\n",
    "print(df.head())\n",
    "\n",
    "# Label Encoding\n",
    "df.loc[df['category'] == 'spam', 'category'] = 0\n",
    "df.loc[df['category'] == 'ham', 'category'] = 1\n",
    "\n",
    "# Features and Labels\n",
    "X = df['Message']\n",
    "Y = df['category'].astype(int)\n",
    "\n",
    "# Train-Test Split\n",
    "X_train, X_test, Y_train, Y_test = train_test_split(X, Y, test_size=0.2, random_state=3)\n",
    "\n",
    "# TF-IDF Vectorization\n",
    "vectorizer = TfidfVectorizer(min_df=1, stop_words='english', lowercase=True)\n",
    "X_train_features = vectorizer.fit_transform(X_train)\n",
    "X_test_features = vectorizer.transform(X_test)\n",
    "\n",
    "# Naive Bayes Model Training\n",
    "model = MultinomialNB()\n",
    "model.fit(X_train_features, Y_train)\n",
    "\n",
    "# Model Evaluation\n",
    "y_pred = model.predict(X_test_features)\n",
    "print(\" Accuracy on Test:\", accuracy_score(Y_test, y_pred))\n",
    "print(\"\\n Confusion Matrix:\\n\", confusion_matrix(Y_test, y_pred))\n",
    "print(\"\\n Classification Report:\\n\", classification_report(Y_test, y_pred))\n",
    "\n",
    "# 🔮 Test with Custom Input\n",
    "input_mail = [\"Congratulations! You have won a $1000 Walmart gift card. Go to bit.ly/xyz to claim now.\"]\n",
    "input_features = vectorizer.transform(input_mail)\n",
    "prediction = model.predict(input_features)\n",
    "\n",
    "print(\"\\nPrediction:\", \"Ham Mail\" if prediction[0] == 1 else \"Spam Mail\")\n"
   ]
  }
 ],
 "metadata": {
  "kernelspec": {
   "display_name": "Python 3",
   "language": "python",
   "name": "python3"
  },
  "language_info": {
   "codemirror_mode": {
    "name": "ipython",
    "version": 3
   },
   "file_extension": ".py",
   "mimetype": "text/x-python",
   "name": "python",
   "nbconvert_exporter": "python",
   "pygments_lexer": "ipython3",
   "version": "3.11.9"
  }
 },
 "nbformat": 4,
 "nbformat_minor": 2
}
