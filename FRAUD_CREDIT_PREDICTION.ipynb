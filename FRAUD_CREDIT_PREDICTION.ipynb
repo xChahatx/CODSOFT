{
 "cells": [
  {
   "cell_type": "code",
   "execution_count": 1,
   "metadata": {},
   "outputs": [
    {
     "name": "stderr",
     "output_type": "stream",
     "text": [
      "C:\\Users\\chaha\\AppData\\Local\\Packages\\PythonSoftwareFoundation.Python.3.11_qbz5n2kfra8p0\\LocalCache\\local-packages\\Python311\\site-packages\\tqdm\\auto.py:21: TqdmWarning: IProgress not found. Please update jupyter and ipywidgets. See https://ipywidgets.readthedocs.io/en/stable/user_install.html\n",
      "  from .autonotebook import tqdm as notebook_tqdm\n"
     ]
    },
    {
     "name": "stdout",
     "output_type": "stream",
     "text": [
      "✅ Accuracy: 0.992123717202399\n",
      "\n",
      "📄 Classification Report:\n",
      "               precision    recall  f1-score   support\n",
      "\n",
      "           0       1.00      0.99      1.00    553574\n",
      "           1       0.31      0.82      0.45      2145\n",
      "\n",
      "    accuracy                           0.99    555719\n",
      "   macro avg       0.65      0.91      0.72    555719\n",
      "weighted avg       1.00      0.99      0.99    555719\n",
      "\n",
      "📸 Confusion matrix saved as 'conf_matrix_fraud.png'\n"
     ]
    },
    {
     "data": {
      "image/png": "[encoded data removed]",
      "text/plain": [
       "<Figure size 600x400 with 2 Axes>"
      ]
     },
     "metadata": {},
     "output_type": "display_data"
    }
   ],
   "source": [
    "# Imports\n",
    "import pandas as pd\n",
    "import numpy as np\n",
    "from sklearn.ensemble import RandomForestClassifier\n",
    "from sklearn.metrics import accuracy_score, classification_report, confusion_matrix\n",
    "from sklearn.preprocessing import LabelEncoder\n",
    "import matplotlib.pyplot as plt\n",
    "import seaborn as sns\n",
    "import gradio as gr\n",
    "\n",
    "# Load the data\n",
    "train_data = pd.read_csv(r\"C:\\Users\\chaha\\Downloads\\archive (5)\\fraudTrain.csv\")\n",
    "test_data = pd.read_csv(r\"C:\\Users\\chaha\\Downloads\\archive (5)\\fraudTest.csv\")\n",
    "\n",
    "# Drop unnecessary columns\n",
    "columns_to_drop = ['Unnamed: 0', 'trans_date_trans_time', 'first', 'last', 'street', 'city',\n",
    "                   'state', 'zip', 'dob', 'unix_time', 'merchant', 'trans_num', 'job']\n",
    "train_data.drop(columns=columns_to_drop, inplace=True)\n",
    "test_data.drop(columns=columns_to_drop, inplace=True)\n",
    "\n",
    "# Encode categorical columns\n",
    "cat_cols = train_data.select_dtypes(include='object').columns\n",
    "le_dict = {}\n",
    "\n",
    "for col in cat_cols:\n",
    "    le = LabelEncoder()\n",
    "    train_data[col] = le.fit_transform(train_data[col])\n",
    "    \n",
    "    # Handle unseen labels in test set\n",
    "    test_data[col] = test_data[col].map(lambda x: le.transform([x])[0] if x in le.classes_ else -1)\n",
    "    le_dict[col] = le  # Save encoder for Gradio use\n",
    "\n",
    "# 🎯 Features and Target\n",
    "X_train = train_data.drop('is_fraud', axis=1)\n",
    "y_train = train_data['is_fraud']\n",
    "X_test = test_data.drop('is_fraud', axis=1)\n",
    "y_test = test_data['is_fraud']\n",
    "\n",
    "# Training the Random Forest Classifier\n",
    "model = RandomForestClassifier(\n",
    "    n_estimators=100,\n",
    "    max_depth=20,\n",
    "    min_samples_leaf=10,\n",
    "    class_weight='balanced',\n",
    "    n_jobs=-1,\n",
    "    random_state=42\n",
    ")\n",
    "model.fit(X_train, y_train)\n",
    "\n",
    "# Evaluate\n",
    "y_pred = model.predict(X_test)\n",
    "accuracy = accuracy_score(y_test, y_pred)\n",
    "print(\"✅ Accuracy:\", accuracy)\n",
    "print(\"\\n📄 Classification Report:\\n\", classification_report(y_test, y_pred))\n",
    "\n",
    "# Confusion Matrix\n",
    "cm = confusion_matrix(y_test, y_pred)\n",
    "plt.figure(figsize=(6, 4))\n",
    "sns.heatmap(cm, annot=True, fmt='d', cmap='Blues')\n",
    "plt.title(\"Confusion Matrix\")\n",
    "plt.xlabel(\"Predicted\")\n",
    "plt.ylabel(\"Actual\")\n",
    "plt.tight_layout()\n",
    "plt.savefig(\"conf_matrix_fraud.png\")\n",
    "print(\"📸 Confusion matrix saved as 'conf_matrix_fraud.png'\")\n",
    "\n",
    "\n",
    "\n",
    "\n"
   ]
  }
 ],
 "metadata": {
  "kernelspec": {
   "display_name": "Python 3",
   "language": "python",
   "name": "python3"
  },
  "language_info": {
   "codemirror_mode": {
    "name": "ipython",
    "version": 3
   },
   "file_extension": ".py",
   "mimetype": "text/x-python",
   "name": "python",
   "nbconvert_exporter": "python",
   "pygments_lexer": "ipython3",
   "version": "3.11.9"
  }
 },
 "nbformat": 4,
 "nbformat_minor": 2
}
